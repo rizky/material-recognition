{
 "cells": [
  {
   "cell_type": "code",
   "execution_count": 42,
   "metadata": {
    "collapsed": true
   },
   "outputs": [],
   "source": [
    "import caffe\n",
    "import glob\n",
    "import numpy"
   ]
  },
  {
   "cell_type": "code",
   "execution_count": 43,
   "metadata": {},
   "outputs": [],
   "source": [
    "arch='googlenet' # googlenet, vgg16 or alexnet\n",
    "net=caffe.Classifier('../models/deploy-{}.prototxt'.format(arch),'../models/minc-{}.caffemodel'.format(arch),channel_swap=(2,1,0),mean=numpy.array([104,117,124]))"
   ]
  },
  {
   "cell_type": "code",
   "execution_count": 44,
   "metadata": {},
   "outputs": [
    {
     "name": "stdout",
     "output_type": "stream",
     "text": [
      "['brick', 'carpet', 'ceramic', 'fabric', 'foliage', 'food', 'glass', 'hair', 'leather', 'metal', 'mirror', 'other', 'painted', 'paper', 'plastic', 'polishedstone', 'skin', 'sky', 'stone', 'tile', 'wallpaper', 'water', 'wood']\n"
     ]
    }
   ],
   "source": [
    "categories=[x.strip() for x in open('../data/categories.txt').readlines()]\n",
    "print categories"
   ]
  },
  {
   "cell_type": "code",
   "execution_count": 45,
   "metadata": {},
   "outputs": [],
   "source": [
    "# input preprocessing: 'data' is the name of the input blob == net.inputs[0]\n",
    "transformer = caffe.io.Transformer({'data': net.blobs['data'].data.shape})\n",
    "transformer.set_transpose('data', (2,0,1))  # move image channels to outermost dimension\n",
    "transformer.set_raw_scale('data', 255)      # rescale from [0, 1] to [0, 255]\n",
    "transformer.set_channel_swap('data', (2,1,0))  # swap channels from RGB to BGR"
   ]
  },
  {
   "cell_type": "code",
   "execution_count": 51,
   "metadata": {},
   "outputs": [
    {
     "name": "stdout",
     "output_type": "stream",
     "text": [
      "('../data/images/brick/brick_000000.jpg', 'foliage')\n",
      "('../data/images/brick/brick_000001.jpg', 'brick')\n",
      "('../data/images/brick/brick_000002.jpg', 'brick')\n",
      "('../data/images/brick/brick_000003.jpg', 'glass')\n",
      "('../data/images/brick/brick_000004.jpg', 'water')\n",
      "('../data/images/brick/brick_000005.jpg', 'glass')\n",
      "('../data/images/carpet/carpet_000000.jpg', 'carpet')\n",
      "('../data/images/carpet/carpet_000001.jpg', 'carpet')\n",
      "('../data/images/carpet/carpet_000002.jpg', 'glass')\n",
      "('../data/images/carpet/carpet_000003.jpg', 'carpet')\n",
      "('../data/images/carpet/carpet_000004.jpg', 'wood')\n",
      "('../data/images/carpet/carpet_000005.jpg', 'ceramic')\n",
      "('../data/images/ceramic/ceramic_000000.jpg', 'ceramic')\n",
      "('../data/images/ceramic/ceramic_000001.jpg', 'food')\n",
      "('../data/images/ceramic/ceramic_000002.jpg', 'ceramic')\n",
      "('../data/images/ceramic/ceramic_000003.jpg', 'ceramic')\n",
      "('../data/images/ceramic/ceramic_000004.jpg', 'ceramic')\n",
      "('../data/images/ceramic/ceramic_000005.jpg', 'ceramic')\n",
      "('../data/images/fabric/fabric_000000.jpg', 'fabric')\n",
      "('../data/images/fabric/fabric_000001.jpg', 'fabric')\n",
      "('../data/images/fabric/fabric_000002.jpg', 'paper')\n",
      "('../data/images/fabric/fabric_000003.jpg', 'fabric')\n",
      "('../data/images/fabric/fabric_000004.jpg', 'fabric')\n",
      "('../data/images/fabric/fabric_000005.jpg', 'skin')\n",
      "('../data/images/foliage/foliage_000000.jpg', 'foliage')\n",
      "('../data/images/foliage/foliage_000001.jpg', 'foliage')\n",
      "('../data/images/foliage/foliage_000002.jpg', 'foliage')\n",
      "('../data/images/foliage/foliage_000003.jpg', 'glass')\n",
      "('../data/images/foliage/foliage_000004.jpg', 'glass')\n",
      "('../data/images/foliage/foliage_000005.jpg', 'glass')\n",
      "('../data/images/food/food_000000.jpg', 'food')\n",
      "('../data/images/food/food_000001.jpg', 'food')\n",
      "('../data/images/food/food_000002.jpg', 'food')\n",
      "('../data/images/food/food_000003.jpg', 'food')\n",
      "('../data/images/food/food_000004.jpg', 'food')\n",
      "('../data/images/food/food_000005.jpg', 'food')\n",
      "('../data/images/glass/glass_000000.jpg', 'glass')\n",
      "('../data/images/glass/glass_000001.jpg', 'glass')\n",
      "('../data/images/glass/glass_000002.jpg', 'glass')\n",
      "('../data/images/glass/glass_000003.jpg', 'glass')\n",
      "('../data/images/glass/glass_000004.jpg', 'glass')\n",
      "('../data/images/glass/glass_000005.jpg', 'mirror')\n",
      "('../data/images/hair/hair_000000.jpg', 'hair')\n",
      "('../data/images/hair/hair_000001.jpg', 'hair')\n",
      "('../data/images/hair/hair_000002.jpg', 'hair')\n",
      "('../data/images/hair/hair_000003.jpg', 'hair')\n",
      "('../data/images/hair/hair_000004.jpg', 'hair')\n",
      "('../data/images/hair/hair_000005.jpg', 'hair')\n",
      "('../data/images/leather/leather_000000.jpg', 'leather')\n",
      "('../data/images/leather/leather_000001.jpg', 'leather')\n",
      "('../data/images/leather/leather_000002.jpg', 'leather')\n",
      "('../data/images/leather/leather_000003.jpg', 'ceramic')\n",
      "('../data/images/leather/leather_000004.jpg', 'metal')\n",
      "('../data/images/leather/leather_000005.jpg', 'leather')\n",
      "('../data/images/metal/metal_000000.jpg', 'metal')\n",
      "('../data/images/metal/metal_000001.jpg', 'metal')\n",
      "('../data/images/metal/metal_000002.jpg', 'metal')\n",
      "('../data/images/metal/metal_000003.jpg', 'metal')\n",
      "('../data/images/metal/metal_000004.jpg', 'glass')\n",
      "('../data/images/metal/metal_000005.jpg', 'metal')\n",
      "('../data/images/mirror/mirror_000000.jpg', 'mirror')\n",
      "('../data/images/mirror/mirror_000001.jpg', 'tile')\n",
      "('../data/images/mirror/mirror_000002.jpg', 'mirror')\n",
      "('../data/images/mirror/mirror_000003.jpg', 'metal')\n",
      "('../data/images/mirror/mirror_000004.jpg', 'mirror')\n",
      "('../data/images/mirror/mirror_000005.jpg', 'glass')\n",
      "('../data/images/other/other_000000.jpg', 'other')\n",
      "('../data/images/other/other_000001.jpg', 'fabric')\n",
      "('../data/images/other/other_000002.jpg', 'other')\n",
      "('../data/images/other/other_000003.jpg', 'other')\n",
      "('../data/images/other/other_000004.jpg', 'glass')\n",
      "('../data/images/other/other_000005.jpg', 'other')\n",
      "('../data/images/painted/painted_000000.jpg', 'painted')\n",
      "('../data/images/painted/painted_000001.jpg', 'painted')\n",
      "('../data/images/painted/painted_000002.jpg', 'painted')\n",
      "('../data/images/painted/painted_000003.jpg', 'painted')\n",
      "('../data/images/painted/painted_000004.jpg', 'glass')\n",
      "('../data/images/painted/painted_000005.jpg', 'painted')\n",
      "('../data/images/paper/paper_000000.jpg', 'paper')\n",
      "('../data/images/paper/paper_000001.jpg', 'glass')\n",
      "('../data/images/paper/paper_000002.jpg', 'glass')\n",
      "('../data/images/paper/paper_000003.jpg', 'paper')\n",
      "('../data/images/paper/paper_000004.jpg', 'paper')\n",
      "('../data/images/paper/paper_000005.jpg', 'plastic')\n",
      "('../data/images/plastic/plastic_000000.jpg', 'plastic')\n",
      "('../data/images/plastic/plastic_000001.jpg', 'plastic')\n",
      "('../data/images/plastic/plastic_000002.jpg', 'plastic')\n",
      "('../data/images/plastic/plastic_000003.jpg', 'metal')\n",
      "('../data/images/plastic/plastic_000004.jpg', 'plastic')\n",
      "('../data/images/plastic/plastic_000005.jpg', 'metal')\n",
      "('../data/images/polishedstone/polishedstone_000000.jpg', 'polishedstone')\n",
      "('../data/images/polishedstone/polishedstone_000001.jpg', 'polishedstone')\n",
      "('../data/images/polishedstone/polishedstone_000002.jpg', 'polishedstone')\n",
      "('../data/images/polishedstone/polishedstone_000003.jpg', 'polishedstone')\n",
      "('../data/images/polishedstone/polishedstone_000004.jpg', 'polishedstone')\n",
      "('../data/images/polishedstone/polishedstone_000005.jpg', 'polishedstone')\n",
      "('../data/images/skin/skin_000000.jpg', 'skin')\n",
      "('../data/images/skin/skin_000001.jpg', 'skin')\n",
      "('../data/images/skin/skin_000002.jpg', 'skin')\n",
      "('../data/images/skin/skin_000003.jpg', 'skin')\n",
      "('../data/images/skin/skin_000004.jpg', 'skin')\n",
      "('../data/images/skin/skin_000005.jpg', 'skin')\n",
      "('../data/images/sky/sky_000000.jpg', 'sky')\n",
      "('../data/images/sky/sky_000001.jpg', 'sky')\n",
      "('../data/images/sky/sky_000002.jpg', 'sky')\n",
      "('../data/images/sky/sky_000003.jpg', 'sky')\n",
      "('../data/images/sky/sky_000004.jpg', 'sky')\n",
      "('../data/images/sky/sky_000005.jpg', 'glass')\n",
      "('../data/images/stone/stone_000000.jpg', 'stone')\n",
      "('../data/images/stone/stone_000001.jpg', 'brick')\n",
      "('../data/images/stone/stone_000002.jpg', 'tile')\n",
      "('../data/images/stone/stone_000003.jpg', 'stone')\n",
      "('../data/images/stone/stone_000004.jpg', 'stone')\n",
      "('../data/images/stone/stone_000005.jpg', 'polishedstone')\n",
      "('../data/images/tile/tile_000000.jpg', 'tile')\n",
      "('../data/images/tile/tile_000001.jpg', 'tile')\n",
      "('../data/images/tile/tile_000002.jpg', 'glass')\n",
      "('../data/images/tile/tile_000003.jpg', 'mirror')\n",
      "('../data/images/tile/tile_000004.jpg', 'tile')\n",
      "('../data/images/tile/tile_000005.jpg', 'ceramic')\n",
      "('../data/images/wallpaper/wallpaper_000000.jpg', 'wallpaper')\n",
      "('../data/images/wallpaper/wallpaper_000001.jpg', 'glass')\n",
      "('../data/images/wallpaper/wallpaper_000002.jpg', 'stone')\n",
      "('../data/images/wallpaper/wallpaper_000003.jpg', 'wallpaper')\n",
      "('../data/images/wallpaper/wallpaper_000004.jpg', 'wallpaper')\n",
      "('../data/images/wallpaper/wallpaper_000005.jpg', 'wallpaper')\n",
      "('../data/images/water/water_000000.jpg', 'water')\n",
      "('../data/images/water/water_000001.jpg', 'water')\n",
      "('../data/images/water/water_000002.jpg', 'water')\n",
      "('../data/images/water/water_000003.jpg', 'water')\n",
      "('../data/images/water/water_000004.jpg', 'glass')\n",
      "('../data/images/water/water_000005.jpg', 'stone')\n",
      "('../data/images/wood/wood_000000.jpg', 'wood')\n",
      "('../data/images/wood/wood_000001.jpg', 'polishedstone')\n",
      "('../data/images/wood/wood_000002.jpg', 'wood')\n",
      "('../data/images/wood/wood_000003.jpg', 'wood')\n",
      "('../data/images/wood/wood_000004.jpg', 'wood')\n",
      "('../data/images/wood/wood_000005.jpg', 'wood')\n"
     ]
    }
   ],
   "source": [
    "for i, x in enumerate(categories):\n",
    "    for j, y in enumerate(sorted(glob.glob('../data/images/{}/*'.format(x)))):\n",
    "        net.blobs['data'].data[...] = transformer.preprocess('data',caffe.io.load_image(y))\n",
    "        pred = net.forward()\n",
    "        print(y, categories[np.argmax(pred['prob'])])"
   ]
  },
  {
   "cell_type": "code",
   "execution_count": null,
   "metadata": {
    "collapsed": true
   },
   "outputs": [],
   "source": []
  }
 ],
 "metadata": {
  "kernelspec": {
   "display_name": "Python 2",
   "language": "python",
   "name": "python2"
  },
  "language_info": {
   "codemirror_mode": {
    "name": "ipython",
    "version": 2
   },
   "file_extension": ".py",
   "mimetype": "text/x-python",
   "name": "python",
   "nbconvert_exporter": "python",
   "pygments_lexer": "ipython2",
   "version": "2.7.12"
  }
 },
 "nbformat": 4,
 "nbformat_minor": 2
}
